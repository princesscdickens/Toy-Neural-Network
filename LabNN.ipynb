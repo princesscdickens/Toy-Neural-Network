{
 "cells": [
  {
   "cell_type": "markdown",
   "metadata": {},
   "source": [
    "Dec 3, 2019\n",
    "\n",
    "# Forward pass with neural networks & numpy\n",
    "\n",
    "Implement this neural network (from last time!) in numpy as a sequence of matrix multiplications. That means you have to represent each layer of weights as a matrix. You should also represent the input as a matrix. Recall that the input values were assumed to be [1,1] (i.e. both x1 and x2 have the value 1).\n",
    "\n",
    "Each layer's weights need to be organized in a np.array(). Remember that numpy has functions for performing a component-wise tanh (np.tanh) as well. The result should therefore be calculable by a single expression in numpy that combines .dot() and np.tanh() and the softmax-function we discussed last time:\n",
    "\n",
    "def softmax(x):\n",
    "return np.exp(x) / np.sum(np.exp(x))\n",
    "\n",
    "As a sanity check, the output of the first layer should be\n",
    "* [0.46211716, 0.60436778, 0.71629787]\n",
    "\n",
    "And the second layer \n",
    "* [0.58567098, 0.76394926]\n",
    "\n",
    "And after the softmax the final output should be\n",
    "* [0.4555481, 0.5444519]"
   ]
  },
  {
   "cell_type": "code",
   "execution_count": 30,
   "metadata": {},
   "outputs": [],
   "source": [
    "import numpy as np\n",
    "\n",
    "input1 = np.array([1,1])\n",
    "#W1 = np.array([[0.1, 0.4], [0.2, 0.5], [0.3, 0.6]]) #not the right shape\n",
    "# I want to multiple an array with 2 elements by a 2x3 array\n",
    "W1 = np.array([[0.1, 0.2, 0.3], [0.4, 0.5, 0.6]])\n",
    "\n",
    "#W2 = np.array([[0.1, 0.3, 0.5], [0.2, 0.4, 0.6]]) #wrong shape\n",
    "W2 = np.array([[0.1, 0.2], [0.3, 0.4], [0.5, 0.6]])"
   ]
  },
  {
   "cell_type": "code",
   "execution_count": 31,
   "metadata": {},
   "outputs": [
    {
     "name": "stdout",
     "output_type": "stream",
     "text": [
      "W1: [[0.1 0.2 0.3]\n",
      " [0.4 0.5 0.6]]\n",
      "W2: [[0.1 0.2]\n",
      " [0.3 0.4]\n",
      " [0.5 0.6]]\n"
     ]
    }
   ],
   "source": [
    "print('W1:', W1)\n",
    "print('W2:', W2)"
   ]
  },
  {
   "cell_type": "markdown",
   "metadata": {},
   "source": [
    "# Hidden layer + activitation function"
   ]
  },
  {
   "cell_type": "code",
   "execution_count": 32,
   "metadata": {},
   "outputs": [
    {
     "name": "stdout",
     "output_type": "stream",
     "text": [
      "Output1:  [0.46211716 0.60436778 0.71629787]\n"
     ]
    }
   ],
   "source": [
    "output1 = np.tanh(input1.dot(W1))\n",
    "print('Output1: ', output1)"
   ]
  },
  {
   "cell_type": "markdown",
   "metadata": {},
   "source": [
    "# Second hidden layer"
   ]
  },
  {
   "cell_type": "code",
   "execution_count": 36,
   "metadata": {},
   "outputs": [
    {
     "name": "stdout",
     "output_type": "stream",
     "text": [
      "Output2:  [0.58567098 0.76394926]\n"
     ]
    }
   ],
   "source": [
    "output2 = output1.dot(W2)\n",
    "print('Output2: ', output2)"
   ]
  },
  {
   "cell_type": "code",
   "execution_count": 37,
   "metadata": {},
   "outputs": [
    {
     "name": "stdout",
     "output_type": "stream",
     "text": [
      "Softmax:  [0.4555481 0.5444519]\n"
     ]
    }
   ],
   "source": [
    "# input should be vector of scores\n",
    "def softmax(x):\n",
    "    \"\"\"Compute softmax values for each sets of scores in x.\"\"\"\n",
    "    e_x = np.exp(x - np.max(x))\n",
    "    return e_x / e_x.sum()\n",
    "\n",
    "result = softmax(output2)\n",
    "print('Softmax: ', result)"
   ]
  },
  {
   "cell_type": "code",
   "execution_count": null,
   "metadata": {},
   "outputs": [],
   "source": []
  }
 ],
 "metadata": {
  "kernelspec": {
   "display_name": "Python 3",
   "language": "python",
   "name": "python3"
  },
  "language_info": {
   "codemirror_mode": {
    "name": "ipython",
    "version": 3
   },
   "file_extension": ".py",
   "mimetype": "text/x-python",
   "name": "python",
   "nbconvert_exporter": "python",
   "pygments_lexer": "ipython3",
   "version": "3.7.3"
  }
 },
 "nbformat": 4,
 "nbformat_minor": 4
}
