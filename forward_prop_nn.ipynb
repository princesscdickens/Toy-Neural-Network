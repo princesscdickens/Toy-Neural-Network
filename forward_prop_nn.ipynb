{
 "cells": [
  {
   "cell_type": "markdown",
   "metadata": {},
   "source": [
    "# forward propogation in neural network\n",
    "\n",
    "- x1 = 1\n",
    "- x2 = 1"
   ]
  },
  {
   "cell_type": "code",
   "execution_count": 6,
   "metadata": {},
   "outputs": [
    {
     "name": "stdout",
     "output_type": "stream",
     "text": [
      "neuron1: 0.46211715726000974\n",
      "neuron2: 0.6043677771171636\n",
      "neuron3: 0.7162978701990245\n"
     ]
    }
   ],
   "source": [
    "from math import tanh\n",
    "from math import exp\n",
    "import numpy as np\n",
    "\n",
    "# Hidden layer + activitation function\n",
    "neuron1 = tanh((1 * 0.1) + (1 * 0.4))\n",
    "print('neuron1:', neuron1)\n",
    "\n",
    "neuron2 = tanh((1 * 0.2) + (1 * 0.5))\n",
    "print('neuron2:', neuron2)\n",
    "\n",
    "neuron3 = tanh((1 * 0.3) + (1 * 0.6))\n",
    "print('neuron3:', neuron3)"
   ]
  },
  {
   "cell_type": "code",
   "execution_count": 7,
   "metadata": {},
   "outputs": [
    {
     "name": "stdout",
     "output_type": "stream",
     "text": [
      "neuronA: 1.604504524118578\n",
      "neuronB: 2.139339365491437\n"
     ]
    }
   ],
   "source": [
    "# second hidden layer\n",
    "\n",
    "neuronA = (neuron1 * 0.1) + (neuron1 * 0.3) + (neuron1 * 0.5) + (neuron2 * 0.1) + (neuron2 * 0.3) + (neuron2 * 0.5) + (neuron3 * 0.1) + (neuron3 * 0.3) + (neuron3 * 0.5)\n",
    "print(\"neuronA:\", neuronA)\n",
    "\n",
    "neuronB = (neuron1 * 0.2) + (neuron1 * 0.4) + (neuron1 * 0.6) + (neuron2 * 0.2) + (neuron2 * 0.4) + (neuron2 * 0.6) + (neuron3 * 0.2) + (neuron3 * 0.4) + (neuron3 * 0.6)\n",
    "print(\"neuronB:\", neuronB)"
   ]
  },
  {
   "cell_type": "code",
   "execution_count": 10,
   "metadata": {},
   "outputs": [
    {
     "name": "stdout",
     "output_type": "stream",
     "text": [
      "Softmax: [0.36938995 0.63061005]\n",
      "Test result[0] + result[1]:  0.36938994573698897  +  0.6306100542630111  =  1.0\n"
     ]
    }
   ],
   "source": [
    "# Now to do Softmax\n",
    "def softmax(x):\n",
    "    \"\"\"Compute softmax values for each sets of scores in x.\"\"\"\n",
    "    e_x = np.exp(x - np.max(x))\n",
    "    return e_x / e_x.sum()\n",
    "\n",
    "scores = [neuronA, neuronB]\n",
    "\n",
    "result = softmax(scores)\n",
    "\n",
    "print('Softmax:', result)\n",
    "print('Test result[0] + result[1]: ', result[0], ' + ', result[1], ' = ', result[0] + result[1])"
   ]
  },
  {
   "cell_type": "code",
   "execution_count": null,
   "metadata": {},
   "outputs": [],
   "source": []
  }
 ],
 "metadata": {
  "kernelspec": {
   "display_name": "Python 3",
   "language": "python",
   "name": "python3"
  },
  "language_info": {
   "codemirror_mode": {
    "name": "ipython",
    "version": 3
   },
   "file_extension": ".py",
   "mimetype": "text/x-python",
   "name": "python",
   "nbconvert_exporter": "python",
   "pygments_lexer": "ipython3",
   "version": "3.6.7"
  }
 },
 "nbformat": 4,
 "nbformat_minor": 2
}
